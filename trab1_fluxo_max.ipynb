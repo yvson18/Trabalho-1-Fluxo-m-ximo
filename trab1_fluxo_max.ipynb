{
  "nbformat": 4,
  "nbformat_minor": 0,
  "metadata": {
    "colab": {
      "name": "trab1_fluxo_max.ipynb",
      "provenance": [],
      "collapsed_sections": [],
      "authorship_tag": "ABX9TyPgTqduFMiDDSVrAz3sI/tz",
      "include_colab_link": true
    },
    "kernelspec": {
      "name": "python3",
      "display_name": "Python 3"
    }
  },
  "cells": [
    {
      "cell_type": "markdown",
      "metadata": {
        "id": "view-in-github",
        "colab_type": "text"
      },
      "source": [
        "<a href=\"https://colab.research.google.com/github/yvson18/Trabalho-1-Fluxo-m-ximo/blob/master/trab1_fluxo_max.ipynb\" target=\"_parent\"><img src=\"https://colab.research.google.com/assets/colab-badge.svg\" alt=\"Open In Colab\"/></a>"
      ]
    },
    {
      "cell_type": "code",
      "metadata": {
        "id": "ZbfOm2Zt8opa",
        "colab_type": "code",
        "colab": {
          "base_uri": "https://localhost:8080/",
          "height": 34
        },
        "outputId": "d0d7310a-6800-415a-f6f8-73b28365c2ab"
      },
      "source": [
        "print(\"Md na minha Lv\")"
      ],
      "execution_count": null,
      "outputs": [
        {
          "output_type": "stream",
          "text": [
            "massa\n"
          ],
          "name": "stdout"
        }
      ]
    }
  ]
}